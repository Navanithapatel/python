{
 "cells": [
  {
   "cell_type": "code",
   "execution_count": 41,
   "id": "523cea82-0ca4-4d08-abeb-9964ea391e59",
   "metadata": {},
   "outputs": [
    {
     "name": "stdout",
     "output_type": "stream",
     "text": [
      "Navanitha\n",
      "19\n",
      "False\n",
      "Malla Reddy University\n"
     ]
    }
   ],
   "source": [
    "name ='Navanitha'\n",
    "age = 19\n",
    "height=5.5\n",
    "trainer=False\n",
    "institution='Malla Reddy University'\n",
    "print(name)\n",
    "print(age)\n",
    "print(trainer)\n",
    "print(institution)"
   ]
  },
  {
   "cell_type": "code",
   "execution_count": null,
   "id": "09fd3340-5cb9-43b0-9dc2-44d253e95280",
   "metadata": {},
   "outputs": [],
   "source": []
  },
  {
   "cell_type": "code",
   "execution_count": 45,
   "id": "d8bd68cb-8b12-4390-8b27-50c75674e7ef",
   "metadata": {},
   "outputs": [
    {
     "name": "stdout",
     "output_type": "stream",
     "text": [
      "997\n"
     ]
    }
   ],
   "source": [
    "a=989\n",
    "b=8\n",
    "sum=a+b\n",
    "print(sum)"
   ]
  },
  {
   "cell_type": "code",
   "execution_count": 1,
   "id": "f06d2be2-ade5-4512-91bb-8b74d18ecbb6",
   "metadata": {},
   "outputs": [],
   "source": [
    "# arithmetic operations\n",
    "# + - * / //\n",
    "a=9\n",
    "b=2"
   ]
  },
  {
   "cell_type": "code",
   "execution_count": 3,
   "id": "c1051b9c-af5f-4601-bd13-8cdbba774bde",
   "metadata": {},
   "outputs": [
    {
     "data": {
      "text/plain": [
       "18"
      ]
     },
     "execution_count": 3,
     "metadata": {},
     "output_type": "execute_result"
    }
   ],
   "source": [
    "a*b"
   ]
  },
  {
   "cell_type": "code",
   "execution_count": 5,
   "id": "01200d0d-0bc5-42d8-a198-30ae21ecc504",
   "metadata": {},
   "outputs": [
    {
     "data": {
      "text/plain": [
       "81"
      ]
     },
     "execution_count": 5,
     "metadata": {},
     "output_type": "execute_result"
    }
   ],
   "source": [
    "a**b"
   ]
  },
  {
   "cell_type": "code",
   "execution_count": 7,
   "id": "cafda3cc-f032-418c-ba11-c84850f8ac28",
   "metadata": {},
   "outputs": [
    {
     "data": {
      "text/plain": [
       "4.5"
      ]
     },
     "execution_count": 7,
     "metadata": {},
     "output_type": "execute_result"
    }
   ],
   "source": [
    "a / b"
   ]
  },
  {
   "cell_type": "code",
   "execution_count": 9,
   "id": "89274539-e152-4f14-9a5a-1c40929d17b7",
   "metadata": {},
   "outputs": [
    {
     "data": {
      "text/plain": [
       "4"
      ]
     },
     "execution_count": 9,
     "metadata": {},
     "output_type": "execute_result"
    }
   ],
   "source": [
    "a // b"
   ]
  },
  {
   "cell_type": "code",
   "execution_count": 11,
   "id": "4c102064-ab1b-466e-a18f-c02a35778ae2",
   "metadata": {},
   "outputs": [
    {
     "data": {
      "text/plain": [
       "7"
      ]
     },
     "execution_count": 11,
     "metadata": {},
     "output_type": "execute_result"
    }
   ],
   "source": [
    "a - b"
   ]
  },
  {
   "cell_type": "code",
   "execution_count": 13,
   "id": "02b36a25-3c55-4719-9e41-6e146c478a3d",
   "metadata": {},
   "outputs": [
    {
     "data": {
      "text/plain": [
       "11"
      ]
     },
     "execution_count": 13,
     "metadata": {},
     "output_type": "execute_result"
    }
   ],
   "source": [
    "a + b "
   ]
  },
  {
   "cell_type": "code",
   "execution_count": 15,
   "id": "04bc6977-16f4-48eb-83df-b91698dbec97",
   "metadata": {},
   "outputs": [
    {
     "data": {
      "text/plain": [
       "6.0"
      ]
     },
     "execution_count": 15,
     "metadata": {},
     "output_type": "execute_result"
    }
   ],
   "source": [
    "24 / 4"
   ]
  },
  {
   "cell_type": "code",
   "execution_count": 17,
   "id": "c941f100-dfe8-4a2f-8f9d-3b4fd58a9a25",
   "metadata": {},
   "outputs": [
    {
     "data": {
      "text/plain": [
       "6"
      ]
     },
     "execution_count": 17,
     "metadata": {},
     "output_type": "execute_result"
    }
   ],
   "source": [
    "24 // 4"
   ]
  },
  {
   "cell_type": "code",
   "execution_count": 19,
   "id": "0cf17d30-fb9e-4ca3-b629-61bab56ccccf",
   "metadata": {},
   "outputs": [
    {
     "data": {
      "text/plain": [
       "False"
      ]
     },
     "execution_count": 19,
     "metadata": {},
     "output_type": "execute_result"
    }
   ],
   "source": [
    "# relational\n",
    "# < > <= >= != ==\n",
    "a==b"
   ]
  },
  {
   "cell_type": "code",
   "execution_count": 21,
   "id": "15ebcb11-70c7-477b-af29-9f5f41394b23",
   "metadata": {},
   "outputs": [
    {
     "data": {
      "text/plain": [
       "True"
      ]
     },
     "execution_count": 21,
     "metadata": {},
     "output_type": "execute_result"
    }
   ],
   "source": [
    "a!=b"
   ]
  },
  {
   "cell_type": "code",
   "execution_count": 23,
   "id": "4e447a8d-f3f7-4265-8c5f-6633f8be7f6d",
   "metadata": {},
   "outputs": [
    {
     "data": {
      "text/plain": [
       "True"
      ]
     },
     "execution_count": 23,
     "metadata": {},
     "output_type": "execute_result"
    }
   ],
   "source": [
    "a>b"
   ]
  },
  {
   "cell_type": "code",
   "execution_count": 25,
   "id": "bf2746b5-0789-4187-b183-97649a89e36e",
   "metadata": {},
   "outputs": [
    {
     "data": {
      "text/plain": [
       "False"
      ]
     },
     "execution_count": 25,
     "metadata": {},
     "output_type": "execute_result"
    }
   ],
   "source": [
    "a<b"
   ]
  },
  {
   "cell_type": "code",
   "execution_count": 27,
   "id": "1587bacc-c1b8-4001-8a0c-101877d6ded1",
   "metadata": {},
   "outputs": [
    {
     "data": {
      "text/plain": [
       "False"
      ]
     },
     "execution_count": 27,
     "metadata": {},
     "output_type": "execute_result"
    }
   ],
   "source": [
    "a<=b"
   ]
  },
  {
   "cell_type": "code",
   "execution_count": 29,
   "id": "b5f2846f-63c7-42e2-aca8-97440950da0c",
   "metadata": {},
   "outputs": [
    {
     "data": {
      "text/plain": [
       "True"
      ]
     },
     "execution_count": 29,
     "metadata": {},
     "output_type": "execute_result"
    }
   ],
   "source": [
    "a>=b"
   ]
  },
  {
   "cell_type": "code",
   "execution_count": 31,
   "id": "fc71940f-8a0c-4003-ac04-bbdd065be818",
   "metadata": {},
   "outputs": [
    {
     "data": {
      "text/plain": [
       "9"
      ]
     },
     "execution_count": 31,
     "metadata": {},
     "output_type": "execute_result"
    }
   ],
   "source": [
    "a"
   ]
  },
  {
   "cell_type": "code",
   "execution_count": 33,
   "id": "7b4b584a-48a3-4d86-9deb-f8024b67fda1",
   "metadata": {},
   "outputs": [
    {
     "data": {
      "text/plain": [
       "2"
      ]
     },
     "execution_count": 33,
     "metadata": {},
     "output_type": "execute_result"
    }
   ],
   "source": [
    "b"
   ]
  },
  {
   "cell_type": "code",
   "execution_count": 35,
   "id": "01d6f841-fd90-482d-8c24-58dddc8c7b11",
   "metadata": {},
   "outputs": [
    {
     "data": {
      "text/plain": [
       "False"
      ]
     },
     "execution_count": 35,
     "metadata": {},
     "output_type": "execute_result"
    }
   ],
   "source": [
    "a>56"
   ]
  },
  {
   "cell_type": "code",
   "execution_count": 37,
   "id": "ec2ce626-5306-4ba6-b618-c1c501347fb6",
   "metadata": {},
   "outputs": [
    {
     "data": {
      "text/plain": [
       "True"
      ]
     },
     "execution_count": 37,
     "metadata": {},
     "output_type": "execute_result"
    }
   ],
   "source": [
    "a<76"
   ]
  },
  {
   "cell_type": "code",
   "execution_count": 39,
   "id": "db9d1833-d935-4efb-8312-49e0bdfd6da9",
   "metadata": {},
   "outputs": [
    {
     "data": {
      "text/plain": [
       "True"
      ]
     },
     "execution_count": 39,
     "metadata": {},
     "output_type": "execute_result"
    }
   ],
   "source": [
    "a!=100"
   ]
  },
  {
   "cell_type": "code",
   "execution_count": null,
   "id": "dc90b950-acac-435e-bd8d-597303aa5465",
   "metadata": {},
   "outputs": [],
   "source": [
    "#logical operations\n",
    "and\n",
    "or \n",
    "not\n"
   ]
  },
  {
   "cell_type": "code",
   "execution_count": 41,
   "id": "d6f227bb-ac83-4182-aeb1-5408ce4f4311",
   "metadata": {},
   "outputs": [],
   "source": [
    "a=50\n",
    "b=40\n"
   ]
  },
  {
   "cell_type": "code",
   "execution_count": 43,
   "id": "fcd25eef-eb78-463c-beac-bd04521badae",
   "metadata": {},
   "outputs": [
    {
     "data": {
      "text/plain": [
       "50"
      ]
     },
     "execution_count": 43,
     "metadata": {},
     "output_type": "execute_result"
    }
   ],
   "source": [
    "a"
   ]
  },
  {
   "cell_type": "code",
   "execution_count": 45,
   "id": "bbfdccc7-70aa-4715-97fb-91cb943ee658",
   "metadata": {},
   "outputs": [
    {
     "data": {
      "text/plain": [
       "40"
      ]
     },
     "execution_count": 45,
     "metadata": {},
     "output_type": "execute_result"
    }
   ],
   "source": [
    "b"
   ]
  },
  {
   "cell_type": "code",
   "execution_count": 47,
   "id": "1abda4f0-91de-4fb9-9611-26865ca96d95",
   "metadata": {},
   "outputs": [
    {
     "data": {
      "text/plain": [
       "False"
      ]
     },
     "execution_count": 47,
     "metadata": {},
     "output_type": "execute_result"
    }
   ],
   "source": [
    "(a>b) and( a>100)"
   ]
  },
  {
   "cell_type": "code",
   "execution_count": 49,
   "id": "40172835-129d-402d-9f2c-3f5faf981946",
   "metadata": {},
   "outputs": [
    {
     "data": {
      "text/plain": [
       "True"
      ]
     },
     "execution_count": 49,
     "metadata": {},
     "output_type": "execute_result"
    }
   ],
   "source": [
    " a>b or a>100"
   ]
  },
  {
   "cell_type": "code",
   "execution_count": null,
   "id": "22733467-865e-4d76-bed3-51c246602398",
   "metadata": {},
   "outputs": [],
   "source": [
    "True and True => True\n",
    "True and False =>False\n",
    "False and True =>False\n",
    "False and False =>False\n"
   ]
  },
  {
   "cell_type": "code",
   "execution_count": 51,
   "id": "28038932-a348-447f-9f5a-91fc1480abb0",
   "metadata": {},
   "outputs": [
    {
     "data": {
      "text/plain": [
       "False"
      ]
     },
     "execution_count": 51,
     "metadata": {},
     "output_type": "execute_result"
    }
   ],
   "source": [
    "a<b and a>100"
   ]
  },
  {
   "cell_type": "code",
   "execution_count": null,
   "id": "998aac36-4f3d-4fa5-bae7-e51f70b8e3e7",
   "metadata": {},
   "outputs": [],
   "source": [
    "True or True => True\n",
    "True or False =>True\n",
    "False or True =>True\n",
    "False or False =>True"
   ]
  },
  {
   "cell_type": "code",
   "execution_count": null,
   "id": "b95d0965-c3e0-48d5-bc7a-60f45f60fc5f",
   "metadata": {},
   "outputs": [],
   "source": [
    "#q1\n",
    "x=34.56\n",
    "y=35\n",
    "#all arithmetic and comparision\n",
    "#and or"
   ]
  },
  {
   "cell_type": "code",
   "execution_count": 64,
   "id": "c353ee48-308f-4be8-b2b4-5f70aa9b5a3b",
   "metadata": {},
   "outputs": [],
   "source": [
    "x=34.56\n",
    "y=35"
   ]
  },
  {
   "cell_type": "code",
   "execution_count": 66,
   "id": "473fc802-3cd7-47c1-b416-a05b11a1f9e9",
   "metadata": {},
   "outputs": [
    {
     "data": {
      "text/plain": [
       "69.56"
      ]
     },
     "execution_count": 66,
     "metadata": {},
     "output_type": "execute_result"
    }
   ],
   "source": [
    "x+y"
   ]
  },
  {
   "cell_type": "code",
   "execution_count": 70,
   "id": "1f7265de-89f6-4a4f-83ff-bcf3582247d5",
   "metadata": {},
   "outputs": [
    {
     "data": {
      "text/plain": [
       "69.56"
      ]
     },
     "execution_count": 70,
     "metadata": {},
     "output_type": "execute_result"
    }
   ],
   "source": [
    "s=x+y\n",
    "s"
   ]
  },
  {
   "cell_type": "code",
   "execution_count": 72,
   "id": "2fa9b7ad-f0f2-49a0-90d7-188a4ca9a479",
   "metadata": {},
   "outputs": [
    {
     "data": {
      "text/plain": [
       "float"
      ]
     },
     "execution_count": 72,
     "metadata": {},
     "output_type": "execute_result"
    }
   ],
   "source": [
    "type(s)"
   ]
  },
  {
   "cell_type": "code",
   "execution_count": 74,
   "id": "2484db74-a3b9-468e-9d95-7c71ef949239",
   "metadata": {},
   "outputs": [
    {
     "data": {
      "text/plain": [
       "float"
      ]
     },
     "execution_count": 74,
     "metadata": {},
     "output_type": "execute_result"
    }
   ],
   "source": [
    "type(x)"
   ]
  },
  {
   "cell_type": "code",
   "execution_count": 76,
   "id": "0996332e-8673-42bc-914c-af21d28bbb15",
   "metadata": {},
   "outputs": [
    {
     "data": {
      "text/plain": [
       "int"
      ]
     },
     "execution_count": 76,
     "metadata": {},
     "output_type": "execute_result"
    }
   ],
   "source": [
    "type(y)"
   ]
  },
  {
   "cell_type": "code",
   "execution_count": 78,
   "id": "3f468544-2175-485c-8bb8-43bd685ab77b",
   "metadata": {},
   "outputs": [
    {
     "data": {
      "text/plain": [
       "10"
      ]
     },
     "execution_count": 78,
     "metadata": {},
     "output_type": "execute_result"
    }
   ],
   "source": [
    "a-b"
   ]
  },
  {
   "cell_type": "code",
   "execution_count": 80,
   "id": "986a593c-ce68-4f22-86d8-4314152bf6d7",
   "metadata": {},
   "outputs": [
    {
     "data": {
      "text/plain": [
       "2000"
      ]
     },
     "execution_count": 80,
     "metadata": {},
     "output_type": "execute_result"
    }
   ],
   "source": [
    "a*b"
   ]
  },
  {
   "cell_type": "code",
   "execution_count": 82,
   "id": "1e78d842-4a8a-4d71-b47a-8bdd2dee764f",
   "metadata": {},
   "outputs": [
    {
     "data": {
      "text/plain": [
       "1.25"
      ]
     },
     "execution_count": 82,
     "metadata": {},
     "output_type": "execute_result"
    }
   ],
   "source": [
    "a/b"
   ]
  },
  {
   "cell_type": "code",
   "execution_count": 84,
   "id": "51a96f3e-c91e-495f-ae92-c823eb1438f0",
   "metadata": {},
   "outputs": [
    {
     "data": {
      "text/plain": [
       "1"
      ]
     },
     "execution_count": 84,
     "metadata": {},
     "output_type": "execute_result"
    }
   ],
   "source": [
    "a//b"
   ]
  },
  {
   "cell_type": "code",
   "execution_count": 86,
   "id": "7ede89cf-19cc-4790-a62e-143dee60910a",
   "metadata": {},
   "outputs": [
    {
     "data": {
      "text/plain": [
       "90949470177292823791503906250000000000000000000000000000000000000000"
      ]
     },
     "execution_count": 86,
     "metadata": {},
     "output_type": "execute_result"
    }
   ],
   "source": [
    "a**b"
   ]
  },
  {
   "cell_type": "code",
   "execution_count": 88,
   "id": "0205bb98-d5be-4f5e-8fed-831182db5efc",
   "metadata": {},
   "outputs": [
    {
     "data": {
      "text/plain": [
       "True"
      ]
     },
     "execution_count": 88,
     "metadata": {},
     "output_type": "execute_result"
    }
   ],
   "source": [
    "x<y"
   ]
  },
  {
   "cell_type": "code",
   "execution_count": 90,
   "id": "e9e494b4-088b-4c29-af4e-2e8426f95a8d",
   "metadata": {},
   "outputs": [
    {
     "data": {
      "text/plain": [
       "False"
      ]
     },
     "execution_count": 90,
     "metadata": {},
     "output_type": "execute_result"
    }
   ],
   "source": [
    "x>y"
   ]
  },
  {
   "cell_type": "code",
   "execution_count": 92,
   "id": "b09de845-21ef-473e-88ae-c58707388538",
   "metadata": {},
   "outputs": [
    {
     "data": {
      "text/plain": [
       "False"
      ]
     },
     "execution_count": 92,
     "metadata": {},
     "output_type": "execute_result"
    }
   ],
   "source": [
    "x==y"
   ]
  },
  {
   "cell_type": "code",
   "execution_count": 94,
   "id": "2a0d6b5a-898b-47aa-a23c-d2788086c61e",
   "metadata": {},
   "outputs": [
    {
     "data": {
      "text/plain": [
       "True"
      ]
     },
     "execution_count": 94,
     "metadata": {},
     "output_type": "execute_result"
    }
   ],
   "source": [
    "x!=y"
   ]
  },
  {
   "cell_type": "code",
   "execution_count": 96,
   "id": "d3f6f158-49bb-4afb-a7c1-d3ddc5e09896",
   "metadata": {},
   "outputs": [
    {
     "data": {
      "text/plain": [
       "True"
      ]
     },
     "execution_count": 96,
     "metadata": {},
     "output_type": "execute_result"
    }
   ],
   "source": [
    "x<=y"
   ]
  },
  {
   "cell_type": "code",
   "execution_count": 98,
   "id": "4c5b66e8-360d-41dc-82e8-7c3ac6989b08",
   "metadata": {},
   "outputs": [
    {
     "data": {
      "text/plain": [
       "False"
      ]
     },
     "execution_count": 98,
     "metadata": {},
     "output_type": "execute_result"
    }
   ],
   "source": [
    "x>=y"
   ]
  },
  {
   "cell_type": "code",
   "execution_count": 100,
   "id": "0afcb40a-fd9a-4215-8100-295e632b0069",
   "metadata": {},
   "outputs": [
    {
     "data": {
      "text/plain": [
       "False"
      ]
     },
     "execution_count": 100,
     "metadata": {},
     "output_type": "execute_result"
    }
   ],
   "source": [
    "x>b and x>23"
   ]
  },
  {
   "cell_type": "code",
   "execution_count": 104,
   "id": "3e4f4a82-ac09-4a9b-a10e-b922bf269406",
   "metadata": {},
   "outputs": [
    {
     "data": {
      "text/plain": [
       "True"
      ]
     },
     "execution_count": 104,
     "metadata": {},
     "output_type": "execute_result"
    }
   ],
   "source": [
    "x<b or x<45"
   ]
  },
  {
   "cell_type": "code",
   "execution_count": 106,
   "id": "d17ff44a-3787-4561-a240-7858922c3391",
   "metadata": {},
   "outputs": [
    {
     "data": {
      "text/plain": [
       "False"
      ]
     },
     "execution_count": 106,
     "metadata": {},
     "output_type": "execute_result"
    }
   ],
   "source": [
    "x>90"
   ]
  },
  {
   "cell_type": "code",
   "execution_count": 108,
   "id": "bcded7ab-cbd2-4113-83cf-173bc9f3c60b",
   "metadata": {},
   "outputs": [
    {
     "data": {
      "text/plain": [
       "True"
      ]
     },
     "execution_count": 108,
     "metadata": {},
     "output_type": "execute_result"
    }
   ],
   "source": [
    "x<89"
   ]
  },
  {
   "cell_type": "code",
   "execution_count": 110,
   "id": "abc4b62e-423e-4dc1-85b6-c8023dae5f2e",
   "metadata": {},
   "outputs": [
    {
     "data": {
      "text/plain": [
       "True"
      ]
     },
     "execution_count": 110,
     "metadata": {},
     "output_type": "execute_result"
    }
   ],
   "source": [
    "y>5"
   ]
  },
  {
   "cell_type": "code",
   "execution_count": 112,
   "id": "77951f59-9386-4e15-acaa-77fd56d2579c",
   "metadata": {},
   "outputs": [
    {
     "data": {
      "text/plain": [
       "False"
      ]
     },
     "execution_count": 112,
     "metadata": {},
     "output_type": "execute_result"
    }
   ],
   "source": [
    "y>67"
   ]
  },
  {
   "cell_type": "code",
   "execution_count": null,
   "id": "a509671c-795c-412e-a52f-9bd2dadcdec5",
   "metadata": {},
   "outputs": [],
   "source": []
  }
 ],
 "metadata": {
  "kernelspec": {
   "display_name": "Python 3 (ipykernel)",
   "language": "python",
   "name": "python3"
  },
  "language_info": {
   "codemirror_mode": {
    "name": "ipython",
    "version": 3
   },
   "file_extension": ".py",
   "mimetype": "text/x-python",
   "name": "python",
   "nbconvert_exporter": "python",
   "pygments_lexer": "ipython3",
   "version": "3.12.4"
  }
 },
 "nbformat": 4,
 "nbformat_minor": 5
}
